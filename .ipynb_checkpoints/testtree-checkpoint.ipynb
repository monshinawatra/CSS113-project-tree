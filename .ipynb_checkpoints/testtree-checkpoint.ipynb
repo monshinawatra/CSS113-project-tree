{
 "cells": [
  {
   "cell_type": "code",
   "execution_count": 120,
   "id": "454310f6",
   "metadata": {},
   "outputs": [
    {
     "name": "stdout",
     "output_type": "stream",
     "text": [
      "A\n",
      "('A', 'B', '2') ('A', 'C', '5') ('A', 'C', '4')\n",
      "B\n",
      "('A', 'B', '2')\n",
      "C\n",
      "('A', 'C', '5') ('A', 'C', '4') ('C', 'D', '7')\n",
      "D\n",
      "('C', 'D', '7')\n",
      "\n",
      "Smallest edge 2\n",
      "Adjacent C\n"
     ]
    }
   ],
   "source": [
    "undirected_graph = UndirectedGraph.from_numpy(structure, weighted_graph=True)\n",
    "\n",
    "new_structure = np.array([(\"C\", \"D\", 7)])\n",
    "undirected_graph.add_edge(new_structure)\n",
    "\n",
    "for vertex in undirected_graph.vertices:\n",
    "    print(vertex.name)\n",
    "    print(*[(edge.left.name, edge.right.name, edge.weight) for edge in vertex.get_edges()])\n",
    "\n",
    "print()\n",
    "print(\"Smallest edge\", undirected_graph.get_smallest_edge().weight)\n",
    "print(\"Adjacent\", undirected_graph.get_adjacent_vertices(\"D\")[0].name)"
   ]
  },
  {
   "cell_type": "code",
   "execution_count": 67,
   "id": "79f58891",
   "metadata": {},
   "outputs": [
    {
     "data": {
      "text/plain": [
       "array([['A', 'B', '2'],\n",
       "       ['A', 'C', '5'],\n",
       "       ['A', 'C', '4']], dtype='<U11')"
      ]
     },
     "execution_count": 67,
     "metadata": {},
     "output_type": "execute_result"
    }
   ],
   "source": [
    "structure"
   ]
  },
  {
   "cell_type": "code",
   "execution_count": 109,
   "id": "18b1f5c0",
   "metadata": {},
   "outputs": [],
   "source": [
    "import numpy as np\n",
    "\n",
    "from tree.graph import UndirectedGraph\n",
    "\n",
    "DEFAULT_VALUE = [float(\"inf\"), None]\n",
    "\n",
    "\n",
    "def get_weight(path_length: dict, key: str) -> float:\n",
    "    return path_length.get(key, DEFAULT_VALUE)[0]\n",
    "\n",
    "\n",
    "graph_array = np.array(\n",
    "    [\n",
    "        (\"A\", \"B\", 4),\n",
    "        (\"A\", \"C\", 5),\n",
    "        (\"B\", \"C\", 11),\n",
    "        (\"B\", \"D\", 9),\n",
    "        (\"B\", \"E\", 7),\n",
    "        (\"C\", \"E\", 3),\n",
    "        (\"D\", \"E\", 3),\n",
    "        (\"D\", \"F\", 2),\n",
    "        (\"E\", \"F\", 6),\n",
    "    ]\n",
    ")\n",
    "graph = UndirectedGraph.from_numpy(array=graph_array, weighted_graph=True)"
   ]
  },
  {
   "cell_type": "code",
   "execution_count": 110,
   "id": "5513d728",
   "metadata": {},
   "outputs": [
    {
     "name": "stdout",
     "output_type": "stream",
     "text": [
      "A\n",
      "('A', 'B', '4') ('A', 'C', '5')\n",
      "B\n",
      "('A', 'B', '4') ('B', 'C', '11') ('B', 'D', '9') ('B', 'E', '7')\n",
      "C\n",
      "('A', 'C', '5') ('B', 'C', '11') ('C', 'E', '3')\n",
      "D\n",
      "('B', 'D', '9') ('D', 'E', '3') ('D', 'F', '2')\n",
      "E\n",
      "('B', 'E', '7') ('C', 'E', '3') ('D', 'E', '3') ('E', 'F', '6')\n",
      "F\n",
      "('D', 'F', '2') ('E', 'F', '6')\n"
     ]
    }
   ],
   "source": [
    "for v in graph.vertices:\n",
    "    print(v.name)\n",
    "    print(*[(edge.left.name, edge.right.name, edge.weight) for edge in v.get_edges()])"
   ]
  },
  {
   "cell_type": "code",
   "execution_count": 121,
   "id": "9f00e9a6",
   "metadata": {},
   "outputs": [
    {
     "name": "stdout",
     "output_type": "stream",
     "text": [
      "11\n"
     ]
    }
   ],
   "source": [
    "input1=\"A\"\n",
    "checklist=UndirectedGraph.vertices2name((graph.get_adjacent_vertices(input1)))\n",
    "print(graph.get_smallest_edge().weight)"
   ]
  }
 ],
 "metadata": {
  "kernelspec": {
   "display_name": "Python 3 (ipykernel)",
   "language": "python",
   "name": "python3"
  },
  "language_info": {
   "codemirror_mode": {
    "name": "ipython",
    "version": 3
   },
   "file_extension": ".py",
   "mimetype": "text/x-python",
   "name": "python",
   "nbconvert_exporter": "python",
   "pygments_lexer": "ipython3",
   "version": "3.9.7"
  }
 },
 "nbformat": 4,
 "nbformat_minor": 5
}
