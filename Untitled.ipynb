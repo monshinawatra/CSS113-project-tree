{
 "cells": [
  {
   "cell_type": "code",
   "execution_count": 3,
   "id": "ac6cc4c5",
   "metadata": {},
   "outputs": [
    {
     "name": "stdout",
     "output_type": "stream",
     "text": [
      "['A', 'C', 'E', 'F'] 14.0\n"
     ]
    }
   ],
   "source": [
    "import numpy as np\n",
    "\n",
    "from tree.graph import UndirectedGraph\n",
    "\n",
    "DEFAULT_VALUE = [float(\"inf\"), None]\n",
    "\n",
    "\n",
    "def get_weight(path_length: dict, key: str) -> float:\n",
    "    return path_length.get(key, DEFAULT_VALUE)[0]\n",
    "\n",
    "\n",
    "graph_array = np.array(\n",
    "    [\n",
    "        (\"A\", \"B\", 4),\n",
    "        (\"A\", \"C\", 5),\n",
    "        (\"B\", \"C\", 11),\n",
    "        (\"B\", \"D\", 9),\n",
    "        (\"B\", \"E\", 7),\n",
    "        (\"C\", \"E\", 3),\n",
    "        (\"D\", \"E\", 13),\n",
    "        (\"D\", \"F\", 2),\n",
    "        (\"E\", \"F\", 6),\n",
    "    ]\n",
    ")\n",
    "graph = UndirectedGraph.from_numpy(array=graph_array, weighted_graph=True)\n",
    "\n",
    "dijkstra_config = {\n",
    "    \"start\": \"A\",\n",
    "    \"target\": \"F\",\n",
    "}\n",
    "\n",
    "path_length = {\n",
    "    dijkstra_config[\"start\"]: [0, dijkstra_config[\"start\"]],\n",
    "}\n",
    "unupdate_path = [vertex.name for vertex in graph.vertices]\n",
    "while len(unupdate_path):\n",
    "    current_vertex = min(unupdate_path, key=lambda x: get_weight(path_length, x))\n",
    "\n",
    "    adjacenct_vertex = UndirectedGraph.vertices2name(graph.get_adjacent_vertices(current_vertex))\n",
    "    for adj in adjacenct_vertex:\n",
    "        if adj == dijkstra_config[\"start\"]:\n",
    "            continue\n",
    "        edge = min(graph.get_edge_to(current_vertex, adj), key=lambda x: x.weight)\n",
    "\n",
    "        new_path = get_weight(path_length, current_vertex) + float(edge.weight)\n",
    "        old_path = get_weight(path_length, adj)\n",
    "        if new_path > old_path:\n",
    "            continue\n",
    "        path_length[adj] = [new_path, current_vertex]\n",
    "    unupdate_path.remove(current_vertex)\n",
    "\n",
    "\n",
    "smallest_path = [dijkstra_config[\"start\"], dijkstra_config[\"target\"]]\n",
    "target = path_length[dijkstra_config[\"target\"]]\n",
    "smallest_weight = target[0]\n",
    "current_path = target[1]\n",
    "while current_path != dijkstra_config[\"start\"]:\n",
    "    smallest_path.insert(1, current_path)\n",
    "    current_path = path_length[current_path][1]\n",
    "print(smallest_path, smallest_weight)"
   ]
  }
 ],
 "metadata": {
  "kernelspec": {
   "display_name": "Python 3 (ipykernel)",
   "language": "python",
   "name": "python3"
  },
  "language_info": {
   "codemirror_mode": {
    "name": "ipython",
    "version": 3
   },
   "file_extension": ".py",
   "mimetype": "text/x-python",
   "name": "python",
   "nbconvert_exporter": "python",
   "pygments_lexer": "ipython3",
   "version": "3.9.7"
  }
 },
 "nbformat": 4,
 "nbformat_minor": 5
}
